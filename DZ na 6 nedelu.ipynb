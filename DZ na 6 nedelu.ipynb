{
 "cells": [
  {
   "cell_type": "code",
   "execution_count": 1,
   "id": "f2c3c955",
   "metadata": {},
   "outputs": [],
   "source": [
    "import pandas as pd"
   ]
  },
  {
   "cell_type": "code",
   "execution_count": 39,
   "id": "676b8686",
   "metadata": {},
   "outputs": [],
   "source": [
    "data = {\n",
    "    \"X\" : [],\n",
    "    \"Y\" : []\n",
    "}"
   ]
  },
  {
   "cell_type": "code",
   "execution_count": 40,
   "id": "4af1057c",
   "metadata": {},
   "outputs": [],
   "source": [
    "def schetchik(func):\n",
    "    global data\n",
    "    def wrpr(x, y):\n",
    "        data['X'].append(x)\n",
    "        data['Y'].append(y)\n",
    "        return func(x, y)\n",
    "    return wrpr"
   ]
  },
  {
   "cell_type": "code",
   "execution_count": 41,
   "id": "412e82d5",
   "metadata": {},
   "outputs": [],
   "source": [
    "@schetchik\n",
    "def func (x, y):\n",
    "    return x+y"
   ]
  },
  {
   "cell_type": "code",
   "execution_count": 42,
   "id": "e66874c9",
   "metadata": {},
   "outputs": [
    {
     "data": {
      "text/plain": [
       "6"
      ]
     },
     "execution_count": 42,
     "metadata": {},
     "output_type": "execute_result"
    }
   ],
   "source": [
    "func(1, 5)"
   ]
  },
  {
   "cell_type": "code",
   "execution_count": 44,
   "id": "54bdd798",
   "metadata": {},
   "outputs": [
    {
     "name": "stdout",
     "output_type": "stream",
     "text": [
      "   X  Y\n",
      "0  1  5\n",
      "1\n"
     ]
    }
   ],
   "source": [
    "df = pd.DataFrame(data)\n",
    "print(df)\n",
    "print(len(df))"
   ]
  }
 ],
 "metadata": {
  "kernelspec": {
   "display_name": "Python 3",
   "language": "python",
   "name": "python3"
  },
  "language_info": {
   "codemirror_mode": {
    "name": "ipython",
    "version": 3
   },
   "file_extension": ".py",
   "mimetype": "text/x-python",
   "name": "python",
   "nbconvert_exporter": "python",
   "pygments_lexer": "ipython3",
   "version": "3.13.7"
  }
 },
 "nbformat": 4,
 "nbformat_minor": 5
}
