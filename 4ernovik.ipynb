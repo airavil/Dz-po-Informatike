{
 "cells": [
  {
   "cell_type": "markdown",
   "id": "42983967",
   "metadata": {},
   "source": [
    "Номер C"
   ]
  },
  {
   "cell_type": "code",
   "execution_count": null,
   "id": "998ba761",
   "metadata": {},
   "outputs": [
    {
     "ename": "KeyboardInterrupt",
     "evalue": "",
     "output_type": "error",
     "traceback": [
      "\u001b[31m---------------------------------------------------------------------------\u001b[39m",
      "\u001b[31mKeyboardInterrupt\u001b[39m                         Traceback (most recent call last)",
      "\u001b[36mCell\u001b[39m\u001b[36m \u001b[39m\u001b[32mIn[8]\u001b[39m\u001b[32m, line 13\u001b[39m\n\u001b[32m     11\u001b[39m                                 \u001b[38;5;28;01mfor\u001b[39;00m i9 \u001b[38;5;129;01min\u001b[39;00m \u001b[38;5;28mrange\u001b[39m(n//\u001b[32m3\u001b[39m+\u001b[32m1\u001b[39m):\n\u001b[32m     12\u001b[39m                                     I = i1*\u001b[32m1023\u001b[39m+i2*\u001b[32m511\u001b[39m+i3*\u001b[32m255\u001b[39m+i4*\u001b[32m127\u001b[39m+i5*\u001b[32m63\u001b[39m+i6*\u001b[32m31\u001b[39m+i7*\u001b[32m15\u001b[39m+i8*\u001b[32m7\u001b[39m+i9*\u001b[32m3\u001b[39m\n\u001b[32m---> \u001b[39m\u001b[32m13\u001b[39m                                     \u001b[38;5;28;01mif\u001b[39;00m I <= n:\n\u001b[32m     14\u001b[39m                                         M.append(I)\n\u001b[32m     15\u001b[39m M[\u001b[32m0\u001b[39m]=\u001b[32m1\u001b[39m\n",
      "\u001b[31mKeyboardInterrupt\u001b[39m: "
     ]
    }
   ],
   "source": [
    "n=int(input())\n",
    "M=[]\n",
    "for i1 in range(n//1023+1):\n",
    "    for i2 in range(n//511+1):\n",
    "        for i3 in range(n//255+1):\n",
    "            for i4 in range(n//127+1):\n",
    "                for i5 in range(n//63+1):\n",
    "                    for i6 in range(n//31+1):\n",
    "                        for i7 in range(n//15+1):\n",
    "                            for i8 in range(n//7+1):\n",
    "                                for i9 in range(n//3+1):\n",
    "                                    I = i1*1023+i2*511+i3*255+i4*127+i5*63+i6*31+i7*15+i8*7+i9*3\n",
    "                                    if I <= n:\n",
    "                                        M.append(I)\n",
    "M[0]=1\n",
    "N=[0]*(n+1)\n",
    "for i in range(1, n+1):\n",
    "    N[i]=N[i-1]+M.count(i)\n",
    "print(N[n])\n"
   ]
  },
  {
   "cell_type": "markdown",
   "id": "4d63a6e7",
   "metadata": {},
   "source": [
    "Номер D"
   ]
  },
  {
   "cell_type": "code",
   "execution_count": null,
   "id": "5e27d295",
   "metadata": {},
   "outputs": [
    {
     "name": "stdout",
     "output_type": "stream",
     "text": [
      "c 1\n",
      "i 4\n",
      "c 5\n",
      "i 16\n",
      "5\n"
     ]
    }
   ],
   "source": [
    "n, m = map(int, input().split())\n",
    "c=0\n",
    "i=1\n",
    "while n%2+m%2==2:\n",
    "    n, m = n//2, m//2\n",
    "    c+=i\n",
    "    i*=4\n",
    "print(c)"
   ]
  },
  {
   "cell_type": "markdown",
   "id": "8af16e54",
   "metadata": {},
   "source": [
    "Номер E"
   ]
  },
  {
   "cell_type": "code",
   "execution_count": null,
   "id": "61d7d915",
   "metadata": {},
   "outputs": [
    {
     "name": "stdout",
     "output_type": "stream",
     "text": [
      "[{'pr': 1, 'vn': 1, 'di': 1}, {'pr': 0, 'vn': 0, 'di': 0}, {'pr': 0, 'vn': 0, 'di': 0}]\n",
      "[{'pr': 1, 'vn': 1, 'di': 1}, {'pr': 0, 'vn': 0, 'di': 0}, {'pr': 0, 'vn': 0, 'di': 0}]\n",
      "[{'pr': 1, 'vn': 1, 'di': 1}, {'pr': 0, 'vn': 0, 'di': 0}, {'pr': 0, 'vn': 0, 'di': 0}]\n",
      "posle pr\n",
      "[{'pr': 5, 'vn': 1, 'di': 1}, {'pr': 0, 'vn': 0, 'di': 0}, {'pr': 0, 'vn': 0, 'di': 0}]\n",
      "[{'pr': 5, 'vn': 1, 'di': 1}, {'pr': 0, 'vn': 0, 'di': 0}, {'pr': 0, 'vn': 0, 'di': 0}]\n",
      "[{'pr': 5, 'vn': 1, 'di': 1}, {'pr': 0, 'vn': 0, 'di': 0}, {'pr': 0, 'vn': 0, 'di': 0}]\n",
      "posle vn\n",
      "[{'pr': 5, 'vn': 1, 'di': 1}, {'pr': 0, 'vn': 7, 'di': 0}, {'pr': 0, 'vn': 7, 'di': 0}]\n",
      "[{'pr': 5, 'vn': 1, 'di': 1}, {'pr': 0, 'vn': 7, 'di': 0}, {'pr': 0, 'vn': 7, 'di': 0}]\n",
      "[{'pr': 5, 'vn': 1, 'di': 1}, {'pr': 0, 'vn': 7, 'di': 0}, {'pr': 0, 'vn': 7, 'di': 0}]\n",
      "posle di\n",
      "[{'pr': 5, 'vn': 1, 'di': 1}, {'pr': 0, 'vn': 7, 'di': 10}, {'pr': 0, 'vn': 7, 'di': 10}]\n",
      "[{'pr': 5, 'vn': 1, 'di': 1}, {'pr': 0, 'vn': 7, 'di': 10}, {'pr': 0, 'vn': 7, 'di': 10}]\n",
      "[{'pr': 5, 'vn': 1, 'di': 1}, {'pr': 0, 'vn': 7, 'di': 10}, {'pr': 0, 'vn': 7, 'di': 10}]\n",
      "posle pr\n",
      "[{'pr': 5, 'vn': 1, 'di': 1}, {'pr': 15, 'vn': 7, 'di': 10}, {'pr': 15, 'vn': 7, 'di': 10}]\n",
      "[{'pr': 5, 'vn': 1, 'di': 1}, {'pr': 15, 'vn': 7, 'di': 10}, {'pr': 15, 'vn': 7, 'di': 10}]\n",
      "[{'pr': 5, 'vn': 1, 'di': 1}, {'pr': 15, 'vn': 7, 'di': 10}, {'pr': 15, 'vn': 7, 'di': 10}]\n",
      "posle vn\n",
      "[{'pr': 5, 'vn': 1, 'di': 1}, {'pr': 15, 'vn': 18, 'di': 10}, {'pr': 15, 'vn': 18, 'di': 10}]\n",
      "[{'pr': 5, 'vn': 1, 'di': 1}, {'pr': 15, 'vn': 18, 'di': 10}, {'pr': 15, 'vn': 18, 'di': 10}]\n",
      "[{'pr': 5, 'vn': 1, 'di': 1}, {'pr': 15, 'vn': 18, 'di': 10}, {'pr': 15, 'vn': 18, 'di': 10}]\n",
      "posle di\n",
      "[{'pr': 5, 'vn': 1, 'di': 1}, {'pr': 15, 'vn': 18, 'di': 24}, {'pr': 15, 'vn': 18, 'di': 24}]\n",
      "[{'pr': 5, 'vn': 1, 'di': 1}, {'pr': 15, 'vn': 18, 'di': 24}, {'pr': 15, 'vn': 18, 'di': 24}]\n",
      "[{'pr': 5, 'vn': 1, 'di': 1}, {'pr': 15, 'vn': 18, 'di': 24}, {'pr': 15, 'vn': 18, 'di': 24}]\n",
      "posle pr\n",
      "[{'pr': 8, 'vn': 1, 'di': 1}, {'pr': 15, 'vn': 18, 'di': 24}, {'pr': 15, 'vn': 18, 'di': 24}]\n",
      "[{'pr': 8, 'vn': 1, 'di': 1}, {'pr': 15, 'vn': 18, 'di': 24}, {'pr': 15, 'vn': 18, 'di': 24}]\n",
      "[{'pr': 8, 'vn': 1, 'di': 1}, {'pr': 15, 'vn': 18, 'di': 24}, {'pr': 15, 'vn': 18, 'di': 24}]\n",
      "posle vn\n",
      "[{'pr': 8, 'vn': 1, 'di': 1}, {'pr': 15, 'vn': 18, 'di': 24}, {'pr': 15, 'vn': 18, 'di': 24}]\n",
      "[{'pr': 8, 'vn': 1, 'di': 1}, {'pr': 15, 'vn': 18, 'di': 24}, {'pr': 15, 'vn': 18, 'di': 24}]\n",
      "[{'pr': 8, 'vn': 1, 'di': 1}, {'pr': 15, 'vn': 18, 'di': 24}, {'pr': 15, 'vn': 18, 'di': 24}]\n",
      "posle di\n",
      "[{'pr': 8, 'vn': 1, 'di': 1}, {'pr': 15, 'vn': 18, 'di': 24}, {'pr': 15, 'vn': 18, 'di': 24}]\n",
      "[{'pr': 8, 'vn': 1, 'di': 1}, {'pr': 15, 'vn': 18, 'di': 24}, {'pr': 15, 'vn': 18, 'di': 24}]\n",
      "[{'pr': 8, 'vn': 1, 'di': 1}, {'pr': 15, 'vn': 18, 'di': 24}, {'pr': 15, 'vn': 18, 'di': 24}]\n",
      "posle pr\n",
      "[{'pr': 8, 'vn': 1, 'di': 1}, {'pr': 32, 'vn': 18, 'di': 24}, {'pr': 32, 'vn': 18, 'di': 24}]\n",
      "[{'pr': 8, 'vn': 1, 'di': 1}, {'pr': 32, 'vn': 18, 'di': 24}, {'pr': 32, 'vn': 18, 'di': 24}]\n",
      "[{'pr': 8, 'vn': 1, 'di': 1}, {'pr': 32, 'vn': 18, 'di': 24}, {'pr': 32, 'vn': 18, 'di': 24}]\n",
      "posle vn\n",
      "[{'pr': 8, 'vn': 1, 'di': 1}, {'pr': 32, 'vn': 38, 'di': 24}, {'pr': 32, 'vn': 38, 'di': 24}]\n",
      "[{'pr': 8, 'vn': 1, 'di': 1}, {'pr': 32, 'vn': 38, 'di': 24}, {'pr': 32, 'vn': 38, 'di': 24}]\n",
      "[{'pr': 8, 'vn': 1, 'di': 1}, {'pr': 32, 'vn': 38, 'di': 24}, {'pr': 32, 'vn': 38, 'di': 24}]\n",
      "posle di\n",
      "[{'pr': 8, 'vn': 1, 'di': 1}, {'pr': 32, 'vn': 38, 'di': 47}, {'pr': 32, 'vn': 38, 'di': 47}]\n",
      "[{'pr': 8, 'vn': 1, 'di': 1}, {'pr': 32, 'vn': 38, 'di': 47}, {'pr': 32, 'vn': 38, 'di': 47}]\n",
      "[{'pr': 8, 'vn': 1, 'di': 1}, {'pr': 32, 'vn': 38, 'di': 47}, {'pr': 32, 'vn': 38, 'di': 47}]\n",
      "47\n"
     ]
    }
   ],
   "source": [
    "def prnt(A):\n",
    "    for i in range(len(A)):\n",
    "        print(A[i])\n",
    "\n",
    "n, m = map(int, input().split())\n",
    "M=[]\n",
    "for i in range(n):\n",
    "    M.append(list(map(int, input().split())))\n",
    "N=[[{'pr':0, 'vn':0, 'di':0}]*m]*n\n",
    "N[0][0]={'pr':M[0][0], 'vn':M[0][0], 'di':M[0][0]}\n",
    "prnt(N)\n",
    "for i in range(n-1):\n",
    "    for j in range(m-1):\n",
    "        N[i+1][j]['pr']=max(N[i+1][j]['pr'], M[i+1][j]+max(N[i][j]['vn'], N[i][j]['di']))\n",
    "        print('posle pr')\n",
    "        prnt(N)\n",
    "        N[i][j+1]['vn']=max(N[i][j+1]['vn'], M[i][j+1]+max(N[i][j]['pr'], N[i][j]['di']))\n",
    "        print('posle vn')\n",
    "        prnt(N)\n",
    "        N[i+1][j+1]['di']=max(N[i+1][j+1]['di'], M[i+1][j+1]+max(N[i][j]['vn'], N[i][j]['pr']))\n",
    "        print('posle di')\n",
    "        prnt(N)\n",
    "print(max(N[n-1][m-1]['di'], N[n-1][m-1]['vn'], N[n-1][m-1]['pr']))\n"
   ]
  },
  {
   "cell_type": "markdown",
   "id": "99c7e796",
   "metadata": {},
   "source": [
    "Номер F"
   ]
  },
  {
   "cell_type": "code",
   "execution_count": null,
   "id": "f7ce97a6",
   "metadata": {},
   "outputs": [
    {
     "name": "stdout",
     "output_type": "stream",
     "text": [
      "[[{'pr': 0, 'vn': 0, 'di': 0}, {'pr': 0, 'vn': 0, 'di': 0}, {'pr': 0, 'vn': 0, 'di': 0}], [{'pr': 0, 'vn': 0, 'di': 0}, {'pr': 0, 'vn': 0, 'di': 0}, {'pr': 0, 'vn': 0, 'di': 0}], [{'pr': 0, 'vn': 0, 'di': 0}, {'pr': 0, 'vn': 0, 'di': 0}, {'pr': 0, 'vn': 0, 'di': 0}]]\n"
     ]
    }
   ],
   "source": []
  }
 ],
 "metadata": {
  "kernelspec": {
   "display_name": "Python 3",
   "language": "python",
   "name": "python3"
  },
  "language_info": {
   "codemirror_mode": {
    "name": "ipython",
    "version": 3
   },
   "file_extension": ".py",
   "mimetype": "text/x-python",
   "name": "python",
   "nbconvert_exporter": "python",
   "pygments_lexer": "ipython3",
   "version": "3.13.7"
  }
 },
 "nbformat": 4,
 "nbformat_minor": 5
}
